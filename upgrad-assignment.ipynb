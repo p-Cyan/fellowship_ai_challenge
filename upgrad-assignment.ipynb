{
 "cells": [
  {
   "cell_type": "markdown",
   "id": "41dcb09f",
   "metadata": {
    "papermill": {
     "duration": 0.021657,
     "end_time": "2022-02-23T14:51:55.558318",
     "exception": false,
     "start_time": "2022-02-23T14:51:55.536661",
     "status": "completed"
    },
    "tags": []
   },
   "source": [
    "# Gesture Recognition\n",
    "In this group project, you are going to build a 3D Conv model that will be able to predict the 5 gestures correctly. Please import the following libraries to get started."
   ]
  },
  {
   "cell_type": "code",
   "execution_count": 1,
   "id": "b330cabf",
   "metadata": {
    "execution": {
     "iopub.execute_input": "2022-02-23T14:51:55.610002Z",
     "iopub.status.busy": "2022-02-23T14:51:55.609226Z",
     "iopub.status.idle": "2022-02-23T14:52:10.678149Z",
     "shell.execute_reply": "2022-02-23T14:52:10.677301Z",
     "shell.execute_reply.started": "2022-02-23T14:25:29.705730Z"
    },
    "papermill": {
     "duration": 15.099016,
     "end_time": "2022-02-23T14:52:10.678296",
     "exception": false,
     "start_time": "2022-02-23T14:51:55.579280",
     "status": "completed"
    },
    "tags": []
   },
   "outputs": [
    {
     "name": "stdout",
     "output_type": "stream",
     "text": [
      "Collecting scipy==1.2\r\n",
      "  Downloading scipy-1.2.0-cp37-cp37m-manylinux1_x86_64.whl (26.6 MB)\r\n",
      "     |████████████████████████████████| 26.6 MB 4.2 MB/s            \r\n",
      "\u001b[?25hRequirement already satisfied: numpy>=1.8.2 in /opt/conda/lib/python3.7/site-packages (from scipy==1.2) (1.20.3)\r\n",
      "Installing collected packages: scipy\r\n",
      "  Attempting uninstall: scipy\r\n",
      "    Found existing installation: scipy 1.7.3\r\n",
      "    Uninstalling scipy-1.7.3:\r\n",
      "      Successfully uninstalled scipy-1.7.3\r\n",
      "\u001b[31mERROR: pip's dependency resolver does not currently take into account all the packages that are installed. This behaviour is the source of the following dependency conflicts.\r\n",
      "yellowbrick 1.3.post1 requires numpy<1.20,>=1.16.0, but you have numpy 1.20.3 which is incompatible.\r\n",
      "tpot 0.11.7 requires scipy>=1.3.1, but you have scipy 1.2.0 which is incompatible.\r\n",
      "stumpy 1.10.2 requires scipy>=1.5, but you have scipy 1.2.0 which is incompatible.\r\n",
      "statsmodels 0.13.1 requires scipy>=1.3, but you have scipy 1.2.0 which is incompatible.\r\n",
      "sklearn-pandas 2.2.0 requires scipy>=1.5.1, but you have scipy 1.2.0 which is incompatible.\r\n",
      "scikit-image 0.19.1 requires scipy>=1.4.1, but you have scipy 1.2.0 which is incompatible.\r\n",
      "plotnine 0.8.0 requires scipy>=1.5.0, but you have scipy 1.2.0 which is incompatible.\r\n",
      "phik 0.12.0 requires scipy>=1.5.2, but you have scipy 1.2.0 which is incompatible.\r\n",
      "pdpbox 0.2.1 requires matplotlib==3.1.1, but you have matplotlib 3.5.1 which is incompatible.\r\n",
      "pandas-profiling 3.0.0 requires scipy>=1.4.1, but you have scipy 1.2.0 which is incompatible.\r\n",
      "mlxtend 0.19.0 requires scipy>=1.2.1, but you have scipy 1.2.0 which is incompatible.\r\n",
      "matrixprofile 1.1.10 requires scipy<2.0.0,>=1.3.2, but you have scipy 1.2.0 which is incompatible.\r\n",
      "jax 0.2.28 requires scipy>=1.2.1, but you have scipy 1.2.0 which is incompatible.\r\n",
      "imbalanced-learn 0.9.0 requires scikit-learn>=1.0.1, but you have scikit-learn 0.23.2 which is incompatible.\r\n",
      "giddy 2.3.3 requires scipy>=1.3.0, but you have scipy 1.2.0 which is incompatible.\r\n",
      "featuretools 1.4.1 requires numpy>=1.21.0, but you have numpy 1.20.3 which is incompatible.\r\n",
      "featuretools 1.4.1 requires scipy>=1.3.3, but you have scipy 1.2.0 which is incompatible.\r\n",
      "arviz 0.11.4 requires typing-extensions<4,>=3.7.4.3, but you have typing-extensions 4.0.1 which is incompatible.\u001b[0m\r\n",
      "Successfully installed scipy-1.2.0\r\n",
      "\u001b[33mWARNING: Running pip as the 'root' user can result in broken permissions and conflicting behaviour with the system package manager. It is recommended to use a virtual environment instead: https://pip.pypa.io/warnings/venv\u001b[0m\r\n"
     ]
    }
   ],
   "source": [
    "!pip3 install scipy==1.2"
   ]
  },
  {
   "cell_type": "code",
   "execution_count": 2,
   "id": "d54799a6",
   "metadata": {
    "execution": {
     "iopub.execute_input": "2022-02-23T14:52:10.747150Z",
     "iopub.status.busy": "2022-02-23T14:52:10.746389Z",
     "iopub.status.idle": "2022-02-23T14:52:30.378953Z",
     "shell.execute_reply": "2022-02-23T14:52:30.378442Z",
     "shell.execute_reply.started": "2022-02-23T14:25:48.463005Z"
    },
    "papermill": {
     "duration": 19.6682,
     "end_time": "2022-02-23T14:52:30.379087",
     "exception": false,
     "start_time": "2022-02-23T14:52:10.710887",
     "status": "completed"
    },
    "tags": []
   },
   "outputs": [
    {
     "name": "stdout",
     "output_type": "stream",
     "text": [
      "Collecting gdown\r\n",
      "  Downloading gdown-4.3.1.tar.gz (13 kB)\r\n",
      "  Installing build dependencies ... \u001b[?25l-\b \b\\\b \b|\b \b/\b \bdone\r\n",
      "\u001b[?25h  Getting requirements to build wheel ... \u001b[?25l-\b \b\\\b \b|\b \bdone\r\n",
      "\u001b[?25h  Preparing metadata (pyproject.toml) ... \u001b[?25l-\b \b\\\b \b|\b \bdone\r\n",
      "\u001b[?25hRequirement already satisfied: tqdm in /opt/conda/lib/python3.7/site-packages (from gdown) (4.62.3)\r\n",
      "Requirement already satisfied: beautifulsoup4 in /opt/conda/lib/python3.7/site-packages (from gdown) (4.10.0)\r\n",
      "Requirement already satisfied: six in /opt/conda/lib/python3.7/site-packages (from gdown) (1.16.0)\r\n",
      "Requirement already satisfied: requests[socks] in /opt/conda/lib/python3.7/site-packages (from gdown) (2.26.0)\r\n",
      "Requirement already satisfied: filelock in /opt/conda/lib/python3.7/site-packages (from gdown) (3.4.2)\r\n",
      "Requirement already satisfied: soupsieve>1.2 in /opt/conda/lib/python3.7/site-packages (from beautifulsoup4->gdown) (2.3.1)\r\n",
      "Requirement already satisfied: certifi>=2017.4.17 in /opt/conda/lib/python3.7/site-packages (from requests[socks]->gdown) (2021.10.8)\r\n",
      "Requirement already satisfied: urllib3<1.27,>=1.21.1 in /opt/conda/lib/python3.7/site-packages (from requests[socks]->gdown) (1.26.7)\r\n",
      "Requirement already satisfied: idna<4,>=2.5 in /opt/conda/lib/python3.7/site-packages (from requests[socks]->gdown) (3.1)\r\n",
      "Requirement already satisfied: charset-normalizer~=2.0.0 in /opt/conda/lib/python3.7/site-packages (from requests[socks]->gdown) (2.0.9)\r\n",
      "Requirement already satisfied: PySocks!=1.5.7,>=1.5.6 in /opt/conda/lib/python3.7/site-packages (from requests[socks]->gdown) (1.7.1)\r\n",
      "Building wheels for collected packages: gdown\r\n",
      "  Building wheel for gdown (pyproject.toml) ... \u001b[?25l-\b \b\\\b \b|\b \b/\b \b-\b \bdone\r\n",
      "\u001b[?25h  Created wheel for gdown: filename=gdown-4.3.1-py3-none-any.whl size=14493 sha256=f6dc19e4f54c9ec68598b604a08d2802b2999a3d17e3e5f561318b4385d7826f\r\n",
      "  Stored in directory: /root/.cache/pip/wheels/39/13/56/88209f07bace2c1af0614ee3326de4a00aad74afb0f4be921d\r\n",
      "Successfully built gdown\r\n",
      "Installing collected packages: gdown\r\n",
      "Successfully installed gdown-4.3.1\r\n",
      "\u001b[33mWARNING: Running pip as the 'root' user can result in broken permissions and conflicting behaviour with the system package manager. It is recommended to use a virtual environment instead: https://pip.pypa.io/warnings/venv\u001b[0m\r\n"
     ]
    }
   ],
   "source": [
    "!pip3 install gdown"
   ]
  },
  {
   "cell_type": "code",
   "execution_count": 3,
   "id": "9c48e431",
   "metadata": {
    "execution": {
     "iopub.execute_input": "2022-02-23T14:52:30.460920Z",
     "iopub.status.busy": "2022-02-23T14:52:30.460139Z",
     "iopub.status.idle": "2022-02-23T14:52:39.488993Z",
     "shell.execute_reply": "2022-02-23T14:52:39.489392Z",
     "shell.execute_reply.started": "2022-02-23T14:26:15.095306Z"
    },
    "papermill": {
     "duration": 9.072123,
     "end_time": "2022-02-23T14:52:39.489562",
     "exception": false,
     "start_time": "2022-02-23T14:52:30.417439",
     "status": "completed"
    },
    "tags": []
   },
   "outputs": [
    {
     "name": "stdout",
     "output_type": "stream",
     "text": [
      "Downloading...\r\n",
      "From: https://drive.google.com/uc?id=1ehyrYBQ5rbQQe6yL4XbLWe3FMvuVUGiL\r\n",
      "To: /kaggle/working/Project_data.zip\r\n",
      "100%|███████████████████████████████████████| 1.71G/1.71G [00:06<00:00, 248MB/s]\r\n"
     ]
    }
   ],
   "source": [
    "!gdown https://drive.google.com/uc?id=1ehyrYBQ5rbQQe6yL4XbLWe3FMvuVUGiL"
   ]
  },
  {
   "cell_type": "code",
   "execution_count": 4,
   "id": "40b07a37",
   "metadata": {
    "execution": {
     "iopub.execute_input": "2022-02-23T14:52:39.619132Z",
     "iopub.status.busy": "2022-02-23T14:52:39.614935Z",
     "iopub.status.idle": "2022-02-23T14:52:57.525425Z",
     "shell.execute_reply": "2022-02-23T14:52:57.524966Z",
     "shell.execute_reply.started": "2022-02-23T14:26:27.221652Z"
    },
    "papermill": {
     "duration": 17.973858,
     "end_time": "2022-02-23T14:52:57.525581",
     "exception": false,
     "start_time": "2022-02-23T14:52:39.551723",
     "status": "completed"
    },
    "tags": []
   },
   "outputs": [],
   "source": [
    "!unzip -q Project_data.zip"
   ]
  },
  {
   "cell_type": "code",
   "execution_count": 5,
   "id": "fa57ce34",
   "metadata": {
    "execution": {
     "iopub.execute_input": "2022-02-23T14:52:57.648930Z",
     "iopub.status.busy": "2022-02-23T14:52:57.648112Z",
     "iopub.status.idle": "2022-02-23T14:52:57.874682Z",
     "shell.execute_reply": "2022-02-23T14:52:57.874141Z",
     "shell.execute_reply.started": "2022-02-23T14:26:49.126076Z"
    },
    "papermill": {
     "duration": 0.290179,
     "end_time": "2022-02-23T14:52:57.874817",
     "exception": false,
     "start_time": "2022-02-23T14:52:57.584638",
     "status": "completed"
    },
    "tags": []
   },
   "outputs": [],
   "source": [
    "import numpy as np\n",
    "import os\n",
    "from scipy.misc import imread, imresize\n",
    "import datetime\n",
    "import os"
   ]
  },
  {
   "cell_type": "markdown",
   "id": "a3f8a752",
   "metadata": {
    "papermill": {
     "duration": 0.060235,
     "end_time": "2022-02-23T14:52:57.992709",
     "exception": false,
     "start_time": "2022-02-23T14:52:57.932474",
     "status": "completed"
    },
    "tags": []
   },
   "source": [
    "We set the random seed so that the results don't vary drastically."
   ]
  },
  {
   "cell_type": "code",
   "execution_count": 6,
   "id": "263f1723",
   "metadata": {
    "execution": {
     "iopub.execute_input": "2022-02-23T14:52:58.128119Z",
     "iopub.status.busy": "2022-02-23T14:52:58.127433Z",
     "iopub.status.idle": "2022-02-23T14:53:03.032862Z",
     "shell.execute_reply": "2022-02-23T14:53:03.031890Z",
     "shell.execute_reply.started": "2022-02-23T14:26:49.385805Z"
    },
    "papermill": {
     "duration": 4.975149,
     "end_time": "2022-02-23T14:53:03.033014",
     "exception": false,
     "start_time": "2022-02-23T14:52:58.057865",
     "status": "completed"
    },
    "tags": []
   },
   "outputs": [],
   "source": [
    "np.random.seed(30)\n",
    "import random as rn\n",
    "rn.seed(30)\n",
    "from keras import backend as K\n",
    "import tensorflow as tf\n",
    "# tf.set_random_seed(30) #depriciated, using tf.random.set_seed() instead of this\n",
    "tf.random.set_seed(30)"
   ]
  },
  {
   "cell_type": "markdown",
   "id": "7b475bb4",
   "metadata": {
    "papermill": {
     "duration": 0.089568,
     "end_time": "2022-02-23T14:53:03.687092",
     "exception": false,
     "start_time": "2022-02-23T14:53:03.597524",
     "status": "completed"
    },
    "tags": []
   },
   "source": [
    "In this block, you read the folder names for training and validation. You also set the `batch_size` here. Note that you set the batch size in such a way that you are able to use the GPU in full capacity. You keep increasing the batch size until the machine throws an error."
   ]
  },
  {
   "cell_type": "code",
   "execution_count": 7,
   "id": "4112aa26",
   "metadata": {
    "execution": {
     "iopub.execute_input": "2022-02-23T14:53:04.032652Z",
     "iopub.status.busy": "2022-02-23T14:53:04.031823Z",
     "iopub.status.idle": "2022-02-23T14:53:04.037697Z",
     "shell.execute_reply": "2022-02-23T14:53:04.038526Z",
     "shell.execute_reply.started": "2022-02-23T14:26:56.542911Z"
    },
    "papermill": {
     "duration": 0.121079,
     "end_time": "2022-02-23T14:53:04.038759",
     "exception": false,
     "start_time": "2022-02-23T14:53:03.917680",
     "status": "completed"
    },
    "tags": []
   },
   "outputs": [],
   "source": [
    "train_doc = np.random.permutation(open('Project_data/train.csv').readlines())\n",
    "val_doc = np.random.permutation(open('Project_data/val.csv').readlines())\n",
    "batch_size = 64"
   ]
  },
  {
   "cell_type": "markdown",
   "id": "4e4b8c6f",
   "metadata": {
    "papermill": {
     "duration": 0.095857,
     "end_time": "2022-02-23T14:53:04.233983",
     "exception": false,
     "start_time": "2022-02-23T14:53:04.138126",
     "status": "completed"
    },
    "tags": []
   },
   "source": [
    "## Generator\n",
    "This is one of the most important part of the code. The overall structure of the generator has been given. In the generator, you are going to preprocess the images as you have images of 2 different dimensions as well as create a batch of video frames. You have to experiment with `img_idx`, `y`,`z` and normalization such that you get high accuracy."
   ]
  },
  {
   "cell_type": "code",
   "execution_count": 8,
   "id": "3278239f",
   "metadata": {
    "execution": {
     "iopub.execute_input": "2022-02-23T14:53:04.439826Z",
     "iopub.status.busy": "2022-02-23T14:53:04.436844Z",
     "iopub.status.idle": "2022-02-23T14:53:04.451909Z",
     "shell.execute_reply": "2022-02-23T14:53:04.451434Z",
     "shell.execute_reply.started": "2022-02-23T14:26:56.563650Z"
    },
    "papermill": {
     "duration": 0.12313,
     "end_time": "2022-02-23T14:53:04.452035",
     "exception": false,
     "start_time": "2022-02-23T14:53:04.328905",
     "status": "completed"
    },
    "tags": []
   },
   "outputs": [],
   "source": [
    "x = 30 # number of frames\n",
    "y = 120 # image width\n",
    "z = 120 # image height\n",
    "\n",
    "def generator(source_path, folder_list, batch_size):\n",
    "    print( 'Source path = ', source_path, '; batch size =', batch_size)\n",
    "    img_idx = [x for x in range(0,x)] #create a list of image numbers you want to use for a particular video\n",
    "    while True:\n",
    "        t = np.random.permutation(folder_list)\n",
    "        num_batches = len(folder_list)//batch_size # calculate the number of batches\n",
    "        for batch in range(num_batches): # we iterate over the number of batches\n",
    "            batch_data = np.zeros((batch_size,x,y,z,3)) # x is the number of images you use for each video, (y,z) is the final size of the input images and 3 is the number of channels RGB\n",
    "            batch_labels = np.zeros((batch_size,5)) # batch_labels is the one hot representation of the output\n",
    "            for folder in range(batch_size): # iterate over the batch_size\n",
    "                imgs = os.listdir(source_path+'/'+ t[folder + (batch*batch_size)].split(';')[0]) # read all the images in the folder\n",
    "                for idx,item in enumerate(img_idx): #  Iterate iver the frames/images of a folder to read them in\n",
    "                    image = imread(source_path+'/'+ t[folder + (batch*batch_size)].strip().split(';')[0]+'/'+imgs[item]).astype(np.float32)\n",
    "                    \n",
    "                    #crop the images and resize them. Note that the images are of 2 different shape \n",
    "                    #and the conv3D will throw error if the inputs in a batch have different shapes\n",
    "                    \n",
    "                    temp = imresize(image,(120,120))\n",
    "                    temp = temp/127.5-1 #Normalize data\n",
    "                    \n",
    "                    batch_data[folder,idx,:,:,0] = (temp[:,:,0]) #normalise and feed in the image\n",
    "                    batch_data[folder,idx,:,:,1] = (temp[:,:,1]) #normalise and feed in the image\n",
    "                    batch_data[folder,idx,:,:,2] = (temp[:,:,2]) #normalise and feed in the image\n",
    "                    \n",
    "                batch_labels[folder, int(t[folder + (batch*batch_size)].strip().split(';')[2])] = 1\n",
    "            yield batch_data, batch_labels #you yield the batch_data and the batch_labels, remember what does yield do\n",
    "\n",
    "        \n",
    "        # write the code for the remaining data points which are left after full batches\n",
    "        if (len(folder_list) != batch_size*num_batches):\n",
    "            print(\"Batch: \",num_batches+1,\"Index:\", batch_size)\n",
    "            batch_size = len(folder_list) - (batch_size*num_batches)\n",
    "            batch_data = np.zeros((batch_size,x,y,z,3)) # x is the number of images you use for each video, (y,z) is the final size of the input images and 3 is the number of channels RGB\n",
    "            batch_labels = np.zeros((batch_size,5)) # batch_labels is the one hot representation of the output\n",
    "            for folder in range(batch_size): # iterate over the batch_size\n",
    "                imgs = os.listdir(source_path+'/'+ t[folder + (batch*batch_size)].split(';')[0]) # read all the images in the folder\n",
    "                for idx,item in enumerate(img_idx): #  Iterate iver the frames/images of a folder to read them in\n",
    "                    image = imread(source_path+'/'+ t[folder + (batch*batch_size)].strip().split(';')[0]+'/'+imgs[item]).astype(np.float32)\n",
    "                    \n",
    "                    #crop the images and resize them. Note that the images are of 2 different shape \n",
    "                    #and the conv3D will throw error if the inputs in a batch have different shapes\n",
    "                    temp = imresize(image,(120,120))\n",
    "                    temp = temp/127.5-1 #Normalize data\n",
    "                    \n",
    "                    batch_data[folder,idx,:,:,0] = (temp[:,:,0])\n",
    "                    batch_data[folder,idx,:,:,1] = (temp[:,:,1])\n",
    "                    batch_data[folder,idx,:,:,2] = (temp[:,:,2])\n",
    "                   \n",
    "                batch_labels[folder, int(t[folder + (batch*batch_size)].strip().split(';')[2])] = 1\n",
    "            yield batch_data, batch_labels"
   ]
  },
  {
   "cell_type": "markdown",
   "id": "45c2b4c4",
   "metadata": {
    "papermill": {
     "duration": 0.059174,
     "end_time": "2022-02-23T14:53:04.570173",
     "exception": false,
     "start_time": "2022-02-23T14:53:04.510999",
     "status": "completed"
    },
    "tags": []
   },
   "source": [
    "Note here that a video is represented above in the generator as (number of images, height, width, number of channels). Take this into consideration while creating the model architecture."
   ]
  },
  {
   "cell_type": "code",
   "execution_count": 9,
   "id": "7a5b3a2a",
   "metadata": {
    "execution": {
     "iopub.execute_input": "2022-02-23T14:53:04.693501Z",
     "iopub.status.busy": "2022-02-23T14:53:04.692638Z",
     "iopub.status.idle": "2022-02-23T14:53:04.696875Z",
     "shell.execute_reply": "2022-02-23T14:53:04.697450Z",
     "shell.execute_reply.started": "2022-02-23T14:26:56.609029Z"
    },
    "papermill": {
     "duration": 0.06949,
     "end_time": "2022-02-23T14:53:04.697637",
     "exception": false,
     "start_time": "2022-02-23T14:53:04.628147",
     "status": "completed"
    },
    "tags": []
   },
   "outputs": [
    {
     "name": "stdout",
     "output_type": "stream",
     "text": [
      "# training sequences = 663\n",
      "# validation sequences = 100\n",
      "# epochs = 30\n"
     ]
    }
   ],
   "source": [
    "curr_dt_time = datetime.datetime.now()\n",
    "train_path = 'Project_data/train'\n",
    "val_path = 'Project_data/val'\n",
    "num_train_sequences = len(train_doc)\n",
    "print('# training sequences =', num_train_sequences)\n",
    "num_val_sequences = len(val_doc)\n",
    "print('# validation sequences =', num_val_sequences)\n",
    "num_epochs = 30\n",
    "print ('# epochs =', num_epochs)"
   ]
  },
  {
   "cell_type": "markdown",
   "id": "bcbe185b",
   "metadata": {
    "papermill": {
     "duration": 0.058899,
     "end_time": "2022-02-23T14:53:04.819038",
     "exception": false,
     "start_time": "2022-02-23T14:53:04.760139",
     "status": "completed"
    },
    "tags": []
   },
   "source": [
    "## Model\n",
    "Here you make the model using different functionalities that Keras provides. Remember to use `Conv3D` and `MaxPooling3D` and not `Conv2D` and `Maxpooling2D` for a 3D convolution model. You would want to use `TimeDistributed` while building a Conv2D + RNN model. Also remember that the last layer is the softmax. Design the network in such a way that the model is able to give good accuracy on the least number of parameters so that it can fit in the memory of the webcam."
   ]
  },
  {
   "cell_type": "markdown",
   "id": "7e71e44e",
   "metadata": {
    "papermill": {
     "duration": 0.058021,
     "end_time": "2022-02-23T14:53:04.935454",
     "exception": false,
     "start_time": "2022-02-23T14:53:04.877433",
     "status": "completed"
    },
    "tags": []
   },
   "source": [
    "Let us create the `train_generator` and the `val_generator` which will be used in `.fit_generator`."
   ]
  },
  {
   "cell_type": "code",
   "execution_count": 10,
   "id": "ddd7e600",
   "metadata": {
    "execution": {
     "iopub.execute_input": "2022-02-23T14:53:05.058200Z",
     "iopub.status.busy": "2022-02-23T14:53:05.056418Z",
     "iopub.status.idle": "2022-02-23T14:53:05.058824Z",
     "shell.execute_reply": "2022-02-23T14:53:05.059229Z",
     "shell.execute_reply.started": "2022-02-23T14:26:56.629831Z"
    },
    "papermill": {
     "duration": 0.065416,
     "end_time": "2022-02-23T14:53:05.059357",
     "exception": false,
     "start_time": "2022-02-23T14:53:04.993941",
     "status": "completed"
    },
    "tags": []
   },
   "outputs": [],
   "source": [
    "train_generator = generator(train_path, train_doc, batch_size)\n",
    "val_generator = generator(val_path, val_doc, batch_size)"
   ]
  },
  {
   "cell_type": "markdown",
   "id": "fab0dc9b",
   "metadata": {
    "papermill": {
     "duration": 0.05795,
     "end_time": "2022-02-23T14:53:05.175522",
     "exception": false,
     "start_time": "2022-02-23T14:53:05.117572",
     "status": "completed"
    },
    "tags": []
   },
   "source": [
    "Now that you have written the model, the next step is to `compile` the model. When you print the `summary` of the model, you'll see the total number of parameters you have to train."
   ]
  },
  {
   "cell_type": "code",
   "execution_count": 11,
   "id": "35c0afd0",
   "metadata": {
    "execution": {
     "iopub.execute_input": "2022-02-23T14:53:05.305804Z",
     "iopub.status.busy": "2022-02-23T14:53:05.305102Z",
     "iopub.status.idle": "2022-02-23T14:53:07.883760Z",
     "shell.execute_reply": "2022-02-23T14:53:07.884190Z",
     "shell.execute_reply.started": "2022-02-23T14:26:56.637432Z"
    },
    "papermill": {
     "duration": 2.650103,
     "end_time": "2022-02-23T14:53:07.884344",
     "exception": false,
     "start_time": "2022-02-23T14:53:05.234241",
     "status": "completed"
    },
    "tags": []
   },
   "outputs": [
    {
     "name": "stderr",
     "output_type": "stream",
     "text": [
      "2022-02-23 14:53:05.378849: I tensorflow/stream_executor/cuda/cuda_gpu_executor.cc:937] successful NUMA node read from SysFS had negative value (-1), but there must be at least one NUMA node, so returning NUMA node zero\n",
      "2022-02-23 14:53:05.501561: I tensorflow/stream_executor/cuda/cuda_gpu_executor.cc:937] successful NUMA node read from SysFS had negative value (-1), but there must be at least one NUMA node, so returning NUMA node zero\n",
      "2022-02-23 14:53:05.502303: I tensorflow/stream_executor/cuda/cuda_gpu_executor.cc:937] successful NUMA node read from SysFS had negative value (-1), but there must be at least one NUMA node, so returning NUMA node zero\n",
      "2022-02-23 14:53:05.503562: I tensorflow/core/platform/cpu_feature_guard.cc:142] This TensorFlow binary is optimized with oneAPI Deep Neural Network Library (oneDNN) to use the following CPU instructions in performance-critical operations:  AVX2 AVX512F FMA\n",
      "To enable them in other operations, rebuild TensorFlow with the appropriate compiler flags.\n",
      "2022-02-23 14:53:05.504561: I tensorflow/stream_executor/cuda/cuda_gpu_executor.cc:937] successful NUMA node read from SysFS had negative value (-1), but there must be at least one NUMA node, so returning NUMA node zero\n",
      "2022-02-23 14:53:05.505515: I tensorflow/stream_executor/cuda/cuda_gpu_executor.cc:937] successful NUMA node read from SysFS had negative value (-1), but there must be at least one NUMA node, so returning NUMA node zero\n",
      "2022-02-23 14:53:05.506365: I tensorflow/stream_executor/cuda/cuda_gpu_executor.cc:937] successful NUMA node read from SysFS had negative value (-1), but there must be at least one NUMA node, so returning NUMA node zero\n",
      "2022-02-23 14:53:07.432392: I tensorflow/stream_executor/cuda/cuda_gpu_executor.cc:937] successful NUMA node read from SysFS had negative value (-1), but there must be at least one NUMA node, so returning NUMA node zero\n",
      "2022-02-23 14:53:07.433181: I tensorflow/stream_executor/cuda/cuda_gpu_executor.cc:937] successful NUMA node read from SysFS had negative value (-1), but there must be at least one NUMA node, so returning NUMA node zero\n",
      "2022-02-23 14:53:07.433811: I tensorflow/stream_executor/cuda/cuda_gpu_executor.cc:937] successful NUMA node read from SysFS had negative value (-1), but there must be at least one NUMA node, so returning NUMA node zero\n",
      "2022-02-23 14:53:07.434376: I tensorflow/core/common_runtime/gpu/gpu_device.cc:1510] Created device /job:localhost/replica:0/task:0/device:GPU:0 with 15403 MB memory:  -> device: 0, name: Tesla P100-PCIE-16GB, pci bus id: 0000:00:04.0, compute capability: 6.0\n"
     ]
    }
   ],
   "source": [
    "from keras.models import Sequential, Model\n",
    "from keras.layers import Dense, GRU, Flatten, TimeDistributed, Flatten, BatchNormalization, Activation, Dropout\n",
    "from keras.layers.convolutional import Conv3D, MaxPooling3D\n",
    "from keras.callbacks import ModelCheckpoint, ReduceLROnPlateau\n",
    "from keras import optimizers\n",
    "\n",
    "nb_filters = [8,16,32,64]\n",
    "nb_dense = [256, 128, 5]\n",
    "\n",
    "# Input\n",
    "input_shape=(30,120,120,3)\n",
    "\n",
    "# Define model\n",
    "model_final = Sequential()\n",
    "\n",
    "model_final.add(Conv3D(nb_filters[0], \n",
    "                 kernel_size=(3,3,3), \n",
    "                 input_shape=input_shape,\n",
    "                 padding='same'))\n",
    "model_final.add(BatchNormalization())\n",
    "model_final.add(Activation('relu'))\n",
    "\n",
    "model_final.add(MaxPooling3D(pool_size=(2,2,2)))\n",
    "\n",
    "model_final.add(Conv3D(nb_filters[1], \n",
    "                 kernel_size=(3,3,3), \n",
    "                 padding='same'))\n",
    "model_final.add(BatchNormalization())\n",
    "model_final.add(Activation('relu'))\n",
    "\n",
    "model_final.add(MaxPooling3D(pool_size=(2,2,2)))\n",
    "\n",
    "model_final.add(Conv3D(nb_filters[2], \n",
    "                 kernel_size=(1,3,3), \n",
    "                 padding='same'))\n",
    "model_final.add(BatchNormalization())\n",
    "model_final.add(Activation('relu'))\n",
    "\n",
    "model_final.add(MaxPooling3D(pool_size=(2,2,2)))\n",
    "\n",
    "model_final.add(Conv3D(nb_filters[3], \n",
    "                 kernel_size=(1,3,3), \n",
    "                 padding='same'))\n",
    "model_final.add(Activation('relu'))\n",
    "model_final.add(Dropout(0.25))\n",
    "\n",
    "model_final.add(MaxPooling3D(pool_size=(2,2,2)))\n",
    "\n",
    "#Flatten Layers\n",
    "model_final.add(Flatten())\n",
    "\n",
    "model_final.add(Dense(nb_dense[0], activation='relu'))\n",
    "model_final.add(Dropout(0.5))\n",
    "\n",
    "model_final.add(Dense(nb_dense[1], activation='relu'))\n",
    "model_final.add(Dropout(0.5))\n",
    "\n",
    "#softmax layer\n",
    "model_final.add(Dense(nb_dense[2], activation='softmax'))"
   ]
  },
  {
   "cell_type": "code",
   "execution_count": 12,
   "id": "9599d2f5",
   "metadata": {
    "execution": {
     "iopub.execute_input": "2022-02-23T14:53:08.009775Z",
     "iopub.status.busy": "2022-02-23T14:53:08.008981Z",
     "iopub.status.idle": "2022-02-23T14:53:08.400029Z",
     "shell.execute_reply": "2022-02-23T14:53:08.401079Z",
     "shell.execute_reply.started": "2022-02-23T14:27:00.237253Z"
    },
    "papermill": {
     "duration": 0.458281,
     "end_time": "2022-02-23T14:53:08.401278",
     "exception": false,
     "start_time": "2022-02-23T14:53:07.942997",
     "status": "completed"
    },
    "tags": []
   },
   "outputs": [
    {
     "name": "stdout",
     "output_type": "stream",
     "text": [
      "Model: \"sequential\"\n",
      "_________________________________________________________________\n",
      "Layer (type)                 Output Shape              Param #   \n",
      "=================================================================\n",
      "conv3d (Conv3D)              (None, 30, 120, 120, 8)   656       \n",
      "_________________________________________________________________\n",
      "batch_normalization (BatchNo (None, 30, 120, 120, 8)   32        \n",
      "_________________________________________________________________\n",
      "activation (Activation)      (None, 30, 120, 120, 8)   0         \n",
      "_________________________________________________________________\n",
      "max_pooling3d (MaxPooling3D) (None, 15, 60, 60, 8)     0         \n",
      "_________________________________________________________________\n",
      "conv3d_1 (Conv3D)            (None, 15, 60, 60, 16)    3472      \n",
      "_________________________________________________________________\n",
      "batch_normalization_1 (Batch (None, 15, 60, 60, 16)    64        \n",
      "_________________________________________________________________\n",
      "activation_1 (Activation)    (None, 15, 60, 60, 16)    0         \n",
      "_________________________________________________________________\n",
      "max_pooling3d_1 (MaxPooling3 (None, 7, 30, 30, 16)     0         \n",
      "_________________________________________________________________\n",
      "conv3d_2 (Conv3D)            (None, 7, 30, 30, 32)     4640      \n",
      "_________________________________________________________________\n",
      "batch_normalization_2 (Batch (None, 7, 30, 30, 32)     128       \n",
      "_________________________________________________________________\n",
      "activation_2 (Activation)    (None, 7, 30, 30, 32)     0         \n",
      "_________________________________________________________________\n",
      "max_pooling3d_2 (MaxPooling3 (None, 3, 15, 15, 32)     0         \n",
      "_________________________________________________________________\n",
      "conv3d_3 (Conv3D)            (None, 3, 15, 15, 64)     18496     \n",
      "_________________________________________________________________\n",
      "activation_3 (Activation)    (None, 3, 15, 15, 64)     0         \n",
      "_________________________________________________________________\n",
      "dropout (Dropout)            (None, 3, 15, 15, 64)     0         \n",
      "_________________________________________________________________\n",
      "max_pooling3d_3 (MaxPooling3 (None, 1, 7, 7, 64)       0         \n",
      "_________________________________________________________________\n",
      "flatten (Flatten)            (None, 3136)              0         \n",
      "_________________________________________________________________\n",
      "dense (Dense)                (None, 256)               803072    \n",
      "_________________________________________________________________\n",
      "dropout_1 (Dropout)          (None, 256)               0         \n",
      "_________________________________________________________________\n",
      "dense_1 (Dense)              (None, 128)               32896     \n",
      "_________________________________________________________________\n",
      "dropout_2 (Dropout)          (None, 128)               0         \n",
      "_________________________________________________________________\n",
      "dense_2 (Dense)              (None, 5)                 645       \n",
      "=================================================================\n",
      "Total params: 864,101\n",
      "Trainable params: 863,989\n",
      "Non-trainable params: 112\n",
      "_________________________________________________________________\n",
      "None\n"
     ]
    }
   ],
   "source": [
    "optimiser = tf.keras.optimizers.Adam()\n",
    "model_final.compile(optimizer=optimiser, loss='categorical_crossentropy', metrics=['categorical_accuracy'])\n",
    "print (model_final.summary())"
   ]
  },
  {
   "cell_type": "code",
   "execution_count": 13,
   "id": "0e710781",
   "metadata": {
    "execution": {
     "iopub.execute_input": "2022-02-23T14:53:08.607926Z",
     "iopub.status.busy": "2022-02-23T14:53:08.607100Z",
     "iopub.status.idle": "2022-02-23T14:53:08.611838Z",
     "shell.execute_reply": "2022-02-23T14:53:08.613072Z",
     "shell.execute_reply.started": "2022-02-23T14:27:00.655125Z"
    },
    "papermill": {
     "duration": 0.112956,
     "end_time": "2022-02-23T14:53:08.613284",
     "exception": false,
     "start_time": "2022-02-23T14:53:08.500328",
     "status": "completed"
    },
    "tags": []
   },
   "outputs": [],
   "source": [
    "model_name = 'model_init' + '_' + str(curr_dt_time).replace(' ','').replace(':','_') + '/'\n",
    "    \n",
    "if not os.path.exists(model_name):\n",
    "    os.mkdir(model_name)\n",
    "        \n",
    "filepath = model_name + 'model-{epoch:05d}-{loss:.5f}-{categorical_accuracy:.5f}-{val_loss:.5f}-{val_categorical_accuracy:.5f}.h5'\n",
    "\n",
    "checkpoint = ModelCheckpoint(filepath, monitor='val_loss', verbose=1, save_best_only=False, save_weights_only=False, mode='auto', period=1)\n",
    "\n",
    "LR =  ReduceLROnPlateau(monitor='val_loss', factor=0.5, patience=2, cooldown=1, verbose=1) # write the REducelronplateau code here\n",
    "callbacks_list = [checkpoint, LR]"
   ]
  },
  {
   "cell_type": "markdown",
   "id": "4e9de6be",
   "metadata": {
    "papermill": {
     "duration": 0.098195,
     "end_time": "2022-02-23T14:53:08.815983",
     "exception": false,
     "start_time": "2022-02-23T14:53:08.717788",
     "status": "completed"
    },
    "tags": []
   },
   "source": [
    "The `steps_per_epoch` and `validation_steps` are used by `fit_generator` to decide the number of next() calls it need to make."
   ]
  },
  {
   "cell_type": "code",
   "execution_count": 14,
   "id": "98c4a0bb",
   "metadata": {
    "execution": {
     "iopub.execute_input": "2022-02-23T14:53:09.024345Z",
     "iopub.status.busy": "2022-02-23T14:53:09.023579Z",
     "iopub.status.idle": "2022-02-23T14:53:09.026652Z",
     "shell.execute_reply": "2022-02-23T14:53:09.027219Z",
     "shell.execute_reply.started": "2022-02-23T14:27:00.924815Z"
    },
    "papermill": {
     "duration": 0.10844,
     "end_time": "2022-02-23T14:53:09.027399",
     "exception": false,
     "start_time": "2022-02-23T14:53:08.918959",
     "status": "completed"
    },
    "tags": []
   },
   "outputs": [],
   "source": [
    "if (num_train_sequences%batch_size) == 0:\n",
    "    steps_per_epoch = int(num_train_sequences/batch_size)\n",
    "else:\n",
    "    steps_per_epoch = (num_train_sequences//batch_size) + 1\n",
    "\n",
    "if (num_val_sequences%batch_size) == 0:\n",
    "    validation_steps = int(num_val_sequences/batch_size)\n",
    "else:\n",
    "    validation_steps = (num_val_sequences//batch_size) + 1"
   ]
  },
  {
   "cell_type": "markdown",
   "id": "d2f56cb5",
   "metadata": {
    "papermill": {
     "duration": 0.097258,
     "end_time": "2022-02-23T14:53:09.224316",
     "exception": false,
     "start_time": "2022-02-23T14:53:09.127058",
     "status": "completed"
    },
    "tags": []
   },
   "source": [
    "Let us now fit the model. This will start training the model and with the help of the checkpoints, you'll be able to save the model at the end of each epoch."
   ]
  },
  {
   "cell_type": "code",
   "execution_count": 15,
   "id": "4b21dfa1",
   "metadata": {
    "execution": {
     "iopub.execute_input": "2022-02-23T14:53:09.356702Z",
     "iopub.status.busy": "2022-02-23T14:53:09.356125Z",
     "iopub.status.idle": "2022-02-23T15:07:46.216311Z",
     "shell.execute_reply": "2022-02-23T15:07:46.216696Z",
     "shell.execute_reply.started": "2022-02-23T14:27:00.967176Z"
    },
    "papermill": {
     "duration": 876.925244,
     "end_time": "2022-02-23T15:07:46.216856",
     "exception": false,
     "start_time": "2022-02-23T14:53:09.291612",
     "status": "completed"
    },
    "tags": []
   },
   "outputs": [
    {
     "name": "stderr",
     "output_type": "stream",
     "text": [
      "/opt/conda/lib/python3.7/site-packages/keras/engine/training.py:1972: UserWarning: `Model.fit_generator` is deprecated and will be removed in a future version. Please use `Model.fit`, which supports generators.\n",
      "  warnings.warn('`Model.fit_generator` is deprecated and '\n",
      "/opt/conda/lib/python3.7/site-packages/ipykernel_launcher.py:17: DeprecationWarning:     `imread` is deprecated!\n",
      "    `imread` is deprecated in SciPy 1.0.0, and will be removed in 1.2.0.\n",
      "    Use ``imageio.imread`` instead.\n",
      "/opt/conda/lib/python3.7/site-packages/ipykernel_launcher.py:22: DeprecationWarning:     `imresize` is deprecated!\n",
      "    `imresize` is deprecated in SciPy 1.0.0, and will be removed in 1.3.0.\n",
      "    Use Pillow instead: ``numpy.array(Image.fromarray(arr).resize())``.\n"
     ]
    },
    {
     "name": "stdout",
     "output_type": "stream",
     "text": [
      "Source path =  Project_data/train ; batch size = 64\n"
     ]
    },
    {
     "name": "stderr",
     "output_type": "stream",
     "text": [
      "2022-02-23 14:53:17.094456: W tensorflow/core/framework/cpu_allocator_impl.cc:80] Allocation of 331776000 exceeds 10% of free system memory.\n",
      "2022-02-23 14:53:17.496302: I tensorflow/compiler/mlir/mlir_graph_optimization_pass.cc:185] None of the MLIR Optimization Passes are enabled (registered 2)\n"
     ]
    },
    {
     "name": "stdout",
     "output_type": "stream",
     "text": [
      "Epoch 1/30\n"
     ]
    },
    {
     "name": "stderr",
     "output_type": "stream",
     "text": [
      "2022-02-23 14:53:18.349389: W tensorflow/core/framework/cpu_allocator_impl.cc:80] Allocation of 331776000 exceeds 10% of free system memory.\n",
      "2022-02-23 14:53:19.556914: I tensorflow/stream_executor/cuda/cuda_dnn.cc:369] Loaded cuDNN version 8005\n"
     ]
    },
    {
     "name": "stdout",
     "output_type": "stream",
     "text": [
      " 1/11 [=>............................] - ETA: 1:30 - loss: 4.2288 - categorical_accuracy: 0.2188"
     ]
    },
    {
     "name": "stderr",
     "output_type": "stream",
     "text": [
      "2022-02-23 14:53:28.468038: W tensorflow/core/framework/cpu_allocator_impl.cc:80] Allocation of 331776000 exceeds 10% of free system memory.\n"
     ]
    },
    {
     "name": "stdout",
     "output_type": "stream",
     "text": [
      " 2/11 [====>.........................] - ETA: 23s - loss: 3.7539 - categorical_accuracy: 0.1719 "
     ]
    },
    {
     "name": "stderr",
     "output_type": "stream",
     "text": [
      "2022-02-23 14:53:35.430302: W tensorflow/core/framework/cpu_allocator_impl.cc:80] Allocation of 331776000 exceeds 10% of free system memory.\n"
     ]
    },
    {
     "name": "stdout",
     "output_type": "stream",
     "text": [
      " 3/11 [=======>......................] - ETA: 38s - loss: 3.5084 - categorical_accuracy: 0.1927"
     ]
    },
    {
     "name": "stderr",
     "output_type": "stream",
     "text": [
      "2022-02-23 14:53:43.043181: W tensorflow/core/framework/cpu_allocator_impl.cc:80] Allocation of 331776000 exceeds 10% of free system memory.\n"
     ]
    },
    {
     "name": "stdout",
     "output_type": "stream",
     "text": [
      " 9/11 [=======================>......] - ETA: 14s - loss: 2.5753 - categorical_accuracy: 0.2101Batch:  11 Index: 64\n"
     ]
    },
    {
     "name": "stderr",
     "output_type": "stream",
     "text": [
      "/opt/conda/lib/python3.7/site-packages/ipykernel_launcher.py:42: DeprecationWarning:     `imread` is deprecated!\n",
      "    `imread` is deprecated in SciPy 1.0.0, and will be removed in 1.2.0.\n",
      "    Use ``imageio.imread`` instead.\n",
      "/opt/conda/lib/python3.7/site-packages/ipykernel_launcher.py:46: DeprecationWarning:     `imresize` is deprecated!\n",
      "    `imresize` is deprecated in SciPy 1.0.0, and will be removed in 1.3.0.\n",
      "    Use Pillow instead: ``numpy.array(Image.fromarray(arr).resize())``.\n"
     ]
    },
    {
     "name": "stdout",
     "output_type": "stream",
     "text": [
      "11/11 [==============================] - ETA: 0s - loss: 2.4609 - categorical_accuracy: 0.2142Source path =  Project_data/val ; batch size = 64\n",
      "Batch:  2 Index: 64\n",
      "11/11 [==============================] - 99s 9s/step - loss: 2.4609 - categorical_accuracy: 0.2142 - val_loss: 1.6047 - val_categorical_accuracy: 0.2000\n",
      "\n",
      "Epoch 00001: saving model to model_init_2022-02-2314_53_04.690212/model-00001-2.46089-0.21418-1.60466-0.20000.h5\n",
      "Epoch 2/30\n",
      "11/11 [==============================] - ETA: 0s - loss: 1.5692 - categorical_accuracy: 0.2727Batch:  3 Index: 36\n",
      "11/11 [==============================] - 44s 4s/step - loss: 1.5692 - categorical_accuracy: 0.2727 - val_loss: 1.5854 - val_categorical_accuracy: 0.2812\n",
      "\n",
      "Epoch 00002: saving model to model_init_2022-02-2314_53_04.690212/model-00002-1.56916-0.27273-1.58537-0.28125.h5\n",
      "Epoch 3/30\n",
      "11/11 [==============================] - ETA: 0s - loss: 1.4998 - categorical_accuracy: 0.3123Batch:  4 Index: 28\n",
      "11/11 [==============================] - 40s 4s/step - loss: 1.4998 - categorical_accuracy: 0.3123 - val_loss: 1.5320 - val_categorical_accuracy: 0.2679\n",
      "\n",
      "Epoch 00003: saving model to model_init_2022-02-2314_53_04.690212/model-00003-1.49982-0.31225-1.53199-0.26786.h5\n",
      "Epoch 4/30\n",
      " 5/11 [============>.................] - ETA: 19s - loss: 1.5113 - categorical_accuracy: 0.2957Batch:  29 Index: 23\n",
      "11/11 [==============================] - 36s 4s/step - loss: 1.4933 - categorical_accuracy: 0.3391 - val_loss: 1.5024 - val_categorical_accuracy: 0.3125\n",
      "\n",
      "Epoch 00004: saving model to model_init_2022-02-2314_53_04.690212/model-00004-1.49329-0.33906-1.50241-0.31250.h5\n",
      "Epoch 5/30\n",
      "11/11 [==============================] - 33s 3s/step - loss: 1.3678 - categorical_accuracy: 0.3780 - val_loss: 1.4569 - val_categorical_accuracy: 0.3438\n",
      "\n",
      "Epoch 00005: saving model to model_init_2022-02-2314_53_04.690212/model-00005-1.36778-0.37799-1.45685-0.34375.h5\n",
      "Epoch 6/30\n",
      "11/11 [==============================] - ETA: 0s - loss: 1.2893 - categorical_accuracy: 0.4019Batch:  7 Index: 16\n",
      "11/11 [==============================] - 26s 3s/step - loss: 1.2893 - categorical_accuracy: 0.4019 - val_loss: 1.2812 - val_categorical_accuracy: 0.6250\n",
      "\n",
      "Epoch 00006: saving model to model_init_2022-02-2314_53_04.690212/model-00006-1.28926-0.40191-1.28119-0.62500.h5\n",
      "Epoch 7/30\n",
      " 7/11 [==================>...........] - ETA: 9s - loss: 1.2460 - categorical_accuracy: 0.3835 Batch:  35 Index: 19\n",
      "11/11 [==============================] - 27s 3s/step - loss: 1.2669 - categorical_accuracy: 0.4236 - val_loss: 1.4398 - val_categorical_accuracy: 0.1250\n",
      "\n",
      "Epoch 00007: saving model to model_init_2022-02-2314_53_04.690212/model-00007-1.26694-0.42365-1.43975-0.12500.h5\n",
      "Epoch 8/30\n",
      "11/11 [==============================] - 25s 2s/step - loss: 1.2427 - categorical_accuracy: 0.4599 - val_loss: 1.5129 - val_categorical_accuracy: 0.1250\n",
      "\n",
      "Epoch 00008: saving model to model_init_2022-02-2314_53_04.690212/model-00008-1.24265-0.45989-1.51290-0.12500.h5\n",
      "\n",
      "Epoch 00008: ReduceLROnPlateau reducing learning rate to 0.0005000000237487257.\n",
      "Epoch 9/30\n",
      "11/11 [==============================] - 24s 2s/step - loss: 1.1625 - categorical_accuracy: 0.5348 - val_loss: 1.5370 - val_categorical_accuracy: 0.5000\n",
      "\n",
      "Epoch 00009: saving model to model_init_2022-02-2314_53_04.690212/model-00009-1.16251-0.53476-1.53704-0.50000.h5\n",
      "Epoch 10/30\n",
      "11/11 [==============================] - 24s 2s/step - loss: 1.1378 - categorical_accuracy: 0.4599 - val_loss: 1.0615 - val_categorical_accuracy: 0.7500\n",
      "\n",
      "Epoch 00010: saving model to model_init_2022-02-2314_53_04.690212/model-00010-1.13778-0.45989-1.06148-0.75000.h5\n",
      "Epoch 11/30\n",
      "11/11 [==============================] - 25s 3s/step - loss: 1.1357 - categorical_accuracy: 0.4866 - val_loss: 1.4187 - val_categorical_accuracy: 0.2500\n",
      "\n",
      "Epoch 00011: saving model to model_init_2022-02-2314_53_04.690212/model-00011-1.13566-0.48663-1.41872-0.25000.h5\n",
      "Epoch 12/30\n",
      "11/11 [==============================] - 23s 2s/step - loss: 1.1011 - categorical_accuracy: 0.5241 - val_loss: 1.2904 - val_categorical_accuracy: 0.6250\n",
      "\n",
      "Epoch 00012: saving model to model_init_2022-02-2314_53_04.690212/model-00012-1.10114-0.52406-1.29039-0.62500.h5\n",
      "\n",
      "Epoch 00012: ReduceLROnPlateau reducing learning rate to 0.0002500000118743628.\n",
      "Epoch 13/30\n",
      "11/11 [==============================] - 25s 2s/step - loss: 1.1147 - categorical_accuracy: 0.5348 - val_loss: 1.3123 - val_categorical_accuracy: 0.5000\n",
      "\n",
      "Epoch 00013: saving model to model_init_2022-02-2314_53_04.690212/model-00013-1.11467-0.53476-1.31231-0.50000.h5\n",
      "Epoch 14/30\n",
      "11/11 [==============================] - 24s 2s/step - loss: 0.9983 - categorical_accuracy: 0.5668 - val_loss: 1.3142 - val_categorical_accuracy: 0.3750\n",
      "\n",
      "Epoch 00014: saving model to model_init_2022-02-2314_53_04.690212/model-00014-0.99832-0.56684-1.31421-0.37500.h5\n",
      "\n",
      "Epoch 00014: ReduceLROnPlateau reducing learning rate to 0.0001250000059371814.\n",
      "Epoch 15/30\n",
      "11/11 [==============================] - 23s 2s/step - loss: 0.9363 - categorical_accuracy: 0.6096 - val_loss: 1.0303 - val_categorical_accuracy: 0.7500\n",
      "\n",
      "Epoch 00015: saving model to model_init_2022-02-2314_53_04.690212/model-00015-0.93630-0.60963-1.03027-0.75000.h5\n",
      "Epoch 16/30\n",
      "11/11 [==============================] - 25s 2s/step - loss: 0.9319 - categorical_accuracy: 0.6203 - val_loss: 1.3152 - val_categorical_accuracy: 0.5000\n",
      "\n",
      "Epoch 00016: saving model to model_init_2022-02-2314_53_04.690212/model-00016-0.93187-0.62032-1.31515-0.50000.h5\n",
      "Epoch 17/30\n",
      "11/11 [==============================] - 24s 2s/step - loss: 0.9427 - categorical_accuracy: 0.6417 - val_loss: 1.5513 - val_categorical_accuracy: 0.3750\n",
      "\n",
      "Epoch 00017: saving model to model_init_2022-02-2314_53_04.690212/model-00017-0.94267-0.64171-1.55126-0.37500.h5\n",
      "\n",
      "Epoch 00017: ReduceLROnPlateau reducing learning rate to 6.25000029685907e-05.\n",
      "Epoch 18/30\n",
      "11/11 [==============================] - 26s 3s/step - loss: 1.1124 - categorical_accuracy: 0.5134 - val_loss: 1.1494 - val_categorical_accuracy: 0.5000\n",
      "\n",
      "Epoch 00018: saving model to model_init_2022-02-2314_53_04.690212/model-00018-1.11236-0.51337-1.14940-0.50000.h5\n",
      "Epoch 19/30\n",
      "11/11 [==============================] - 23s 2s/step - loss: 0.9700 - categorical_accuracy: 0.5668 - val_loss: 1.6430 - val_categorical_accuracy: 0.3750\n",
      "\n",
      "Epoch 00019: saving model to model_init_2022-02-2314_53_04.690212/model-00019-0.97000-0.56684-1.64304-0.37500.h5\n",
      "\n",
      "Epoch 00019: ReduceLROnPlateau reducing learning rate to 3.125000148429535e-05.\n",
      "Epoch 20/30\n",
      "11/11 [==============================] - 24s 2s/step - loss: 0.8360 - categorical_accuracy: 0.6791 - val_loss: 1.1147 - val_categorical_accuracy: 0.3750\n",
      "\n",
      "Epoch 00020: saving model to model_init_2022-02-2314_53_04.690212/model-00020-0.83604-0.67914-1.11467-0.37500.h5\n",
      "Epoch 21/30\n",
      "11/11 [==============================] - 25s 2s/step - loss: 0.9620 - categorical_accuracy: 0.5829 - val_loss: 1.7835 - val_categorical_accuracy: 0.3750\n",
      "\n",
      "Epoch 00021: saving model to model_init_2022-02-2314_53_04.690212/model-00021-0.96196-0.58289-1.78353-0.37500.h5\n",
      "\n",
      "Epoch 00021: ReduceLROnPlateau reducing learning rate to 1.5625000742147677e-05.\n",
      "Epoch 22/30\n",
      "11/11 [==============================] - 25s 2s/step - loss: 0.9134 - categorical_accuracy: 0.6631 - val_loss: 1.9349 - val_categorical_accuracy: 0.2500\n",
      "\n",
      "Epoch 00022: saving model to model_init_2022-02-2314_53_04.690212/model-00022-0.91342-0.66310-1.93492-0.25000.h5\n",
      "Epoch 23/30\n",
      "11/11 [==============================] - 24s 2s/step - loss: 0.9497 - categorical_accuracy: 0.6150 - val_loss: 1.4785 - val_categorical_accuracy: 0.3750\n",
      "\n",
      "Epoch 00023: saving model to model_init_2022-02-2314_53_04.690212/model-00023-0.94967-0.61497-1.47848-0.37500.h5\n",
      "\n",
      "Epoch 00023: ReduceLROnPlateau reducing learning rate to 7.812500371073838e-06.\n",
      "Epoch 24/30\n",
      "11/11 [==============================] - 23s 2s/step - loss: 0.8992 - categorical_accuracy: 0.6364 - val_loss: 1.2371 - val_categorical_accuracy: 0.3750\n",
      "\n",
      "Epoch 00024: saving model to model_init_2022-02-2314_53_04.690212/model-00024-0.89923-0.63636-1.23709-0.37500.h5\n",
      "Epoch 25/30\n",
      "11/11 [==============================] - 24s 2s/step - loss: 0.8584 - categorical_accuracy: 0.6096 - val_loss: 1.2071 - val_categorical_accuracy: 0.7500\n",
      "\n",
      "Epoch 00025: saving model to model_init_2022-02-2314_53_04.690212/model-00025-0.85842-0.60963-1.20708-0.75000.h5\n",
      "\n",
      "Epoch 00025: ReduceLROnPlateau reducing learning rate to 3.906250185536919e-06.\n",
      "Epoch 26/30\n",
      "11/11 [==============================] - 26s 3s/step - loss: 0.8270 - categorical_accuracy: 0.7005 - val_loss: 1.2887 - val_categorical_accuracy: 0.3750\n",
      "\n",
      "Epoch 00026: saving model to model_init_2022-02-2314_53_04.690212/model-00026-0.82696-0.70053-1.28870-0.37500.h5\n",
      "Epoch 27/30\n",
      "11/11 [==============================] - 23s 2s/step - loss: 0.8906 - categorical_accuracy: 0.6684 - val_loss: 1.8785 - val_categorical_accuracy: 0.3750\n",
      "\n",
      "Epoch 00027: saving model to model_init_2022-02-2314_53_04.690212/model-00027-0.89055-0.66845-1.87852-0.37500.h5\n",
      "\n",
      "Epoch 00027: ReduceLROnPlateau reducing learning rate to 1.9531250927684596e-06.\n",
      "Epoch 28/30\n",
      "11/11 [==============================] - 25s 2s/step - loss: 0.9911 - categorical_accuracy: 0.5936 - val_loss: 1.2741 - val_categorical_accuracy: 0.3750\n",
      "\n",
      "Epoch 00028: saving model to model_init_2022-02-2314_53_04.690212/model-00028-0.99112-0.59358-1.27413-0.37500.h5\n",
      "Epoch 29/30\n",
      "11/11 [==============================] - 23s 2s/step - loss: 0.9505 - categorical_accuracy: 0.6150 - val_loss: 1.8590 - val_categorical_accuracy: 0.3750\n",
      "\n",
      "Epoch 00029: saving model to model_init_2022-02-2314_53_04.690212/model-00029-0.95045-0.61497-1.85899-0.37500.h5\n",
      "\n",
      "Epoch 00029: ReduceLROnPlateau reducing learning rate to 9.765625463842298e-07.\n",
      "Epoch 30/30\n",
      "11/11 [==============================] - 25s 3s/step - loss: 0.8486 - categorical_accuracy: 0.6417 - val_loss: 1.7397 - val_categorical_accuracy: 0.2500\n",
      "\n",
      "Epoch 00030: saving model to model_init_2022-02-2314_53_04.690212/model-00030-0.84856-0.64171-1.73968-0.25000.h5\n"
     ]
    },
    {
     "data": {
      "text/plain": [
       "<keras.callbacks.History at 0x7f88802a1490>"
      ]
     },
     "execution_count": 15,
     "metadata": {},
     "output_type": "execute_result"
    }
   ],
   "source": [
    "model_final.fit_generator(train_generator, steps_per_epoch=steps_per_epoch, epochs=num_epochs, verbose=1, \n",
    "                    callbacks=callbacks_list, validation_data=val_generator, \n",
    "                    validation_steps=validation_steps, class_weight=None, workers=1, initial_epoch=0)"
   ]
  },
  {
   "cell_type": "code",
   "execution_count": 16,
   "id": "4538ec4f",
   "metadata": {
    "execution": {
     "iopub.execute_input": "2022-02-23T15:07:46.592154Z",
     "iopub.status.busy": "2022-02-23T15:07:46.591398Z",
     "iopub.status.idle": "2022-02-23T15:07:47.331970Z",
     "shell.execute_reply": "2022-02-23T15:07:47.331451Z",
     "shell.execute_reply.started": "2022-02-23T14:45:19.288833Z"
    },
    "papermill": {
     "duration": 0.930796,
     "end_time": "2022-02-23T15:07:47.332105",
     "exception": false,
     "start_time": "2022-02-23T15:07:46.401309",
     "status": "completed"
    },
    "tags": []
   },
   "outputs": [
    {
     "name": "stdout",
     "output_type": "stream",
     "text": [
      "/bin/bash: line 0: cd: model_init_2022-02-2314_26_56.614736: No such file or directory\r\n"
     ]
    }
   ],
   "source": [
    "!cd model_init_2022-02-2314_26_56.614736"
   ]
  },
  {
   "cell_type": "code",
   "execution_count": 17,
   "id": "8dcec835",
   "metadata": {
    "execution": {
     "iopub.execute_input": "2022-02-23T15:07:47.738268Z",
     "iopub.status.busy": "2022-02-23T15:07:47.708414Z",
     "iopub.status.idle": "2022-02-23T15:07:48.435727Z",
     "shell.execute_reply": "2022-02-23T15:07:48.435244Z",
     "shell.execute_reply.started": "2022-02-23T14:45:37.734973Z"
    },
    "papermill": {
     "duration": 0.916157,
     "end_time": "2022-02-23T15:07:48.435862",
     "exception": false,
     "start_time": "2022-02-23T15:07:47.519705",
     "status": "completed"
    },
    "tags": []
   },
   "outputs": [
    {
     "name": "stdout",
     "output_type": "stream",
     "text": [
      "ls: cannot access 'model_init_2022-02-2314_26_56.614736': No such file or directory\r\n"
     ]
    }
   ],
   "source": [
    "!ls model_init_2022-02-2314_26_56.614736"
   ]
  },
  {
   "cell_type": "code",
   "execution_count": null,
   "id": "49fa4bf0",
   "metadata": {
    "papermill": {
     "duration": 0.183207,
     "end_time": "2022-02-23T15:07:48.804337",
     "exception": false,
     "start_time": "2022-02-23T15:07:48.621130",
     "status": "completed"
    },
    "tags": []
   },
   "outputs": [],
   "source": []
  }
 ],
 "metadata": {
  "kernelspec": {
   "display_name": "Python 3",
   "language": "python",
   "name": "python3"
  },
  "language_info": {
   "codemirror_mode": {
    "name": "ipython",
    "version": 3
   },
   "file_extension": ".py",
   "mimetype": "text/x-python",
   "name": "python",
   "nbconvert_exporter": "python",
   "pygments_lexer": "ipython3",
   "version": "3.7.12"
  },
  "papermill": {
   "default_parameters": {},
   "duration": 964.864914,
   "end_time": "2022-02-23T15:07:52.535122",
   "environment_variables": {},
   "exception": null,
   "input_path": "__notebook__.ipynb",
   "output_path": "__notebook__.ipynb",
   "parameters": {},
   "start_time": "2022-02-23T14:51:47.670208",
   "version": "2.3.3"
  }
 },
 "nbformat": 4,
 "nbformat_minor": 5
}
